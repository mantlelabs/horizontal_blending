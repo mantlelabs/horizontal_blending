{
 "cells": [
  {
   "cell_type": "code",
   "execution_count": 1,
   "metadata": {},
   "outputs": [],
   "source": [
    "import rasterio\n",
    "import os\n",
    "import numpy as np\n",
    "import boto3"
   ]
  },
  {
   "cell_type": "code",
   "execution_count": 2,
   "metadata": {},
   "outputs": [],
   "source": [
    "def get_s3_obj_size(bucket, key):\n",
    "    s3 = boto3.client('s3')\n",
    "    response = s3.head_object(Bucket=bucket, Key=key)\n",
    "    return response['ContentLength']"
   ]
  },
  {
   "cell_type": "code",
   "execution_count": 3,
   "metadata": {},
   "outputs": [],
   "source": [
    "bucket = 'mantlelabs-eu-workflows'\n",
    "key = 's2-generate_composites/Ukraine_Swissre_monthly_composites_20160101-20200507/composite_37UER_20181116-20181215_median/B08/tile_37UER_b08_median.tif'\n",
    "with rasterio.open(f's3://{bucket}/{key}') as f:\n",
    "    profile = f.profile\n",
    "    data = f.read(1)  # read first band in file only, to get 2D-array"
   ]
  },
  {
   "cell_type": "code",
   "execution_count": 4,
   "metadata": {},
   "outputs": [
    {
     "name": "stdout",
     "output_type": "stream",
     "text": [
      "{'blockxsize': 512,\n",
      " 'blockysize': 512,\n",
      " 'compress': 'deflate',\n",
      " 'count': 1,\n",
      " 'crs': CRS.from_epsg(32637),\n",
      " 'driver': 'GTiff',\n",
      " 'dtype': 'uint16',\n",
      " 'height': 10980,\n",
      " 'interleave': 'band',\n",
      " 'nodata': 0.0,\n",
      " 'tiled': True,\n",
      " 'transform': Affine(10.0, 0.0, 499980.0,\n",
      "       0.0, -10.0, 5600040.0),\n",
      " 'width': 10980}\n"
     ]
    }
   ],
   "source": [
    "import pprint\n",
    "pprint.pprint(profile)"
   ]
  },
  {
   "cell_type": "code",
   "execution_count": 5,
   "metadata": {},
   "outputs": [
    {
     "name": "stdout",
     "output_type": "stream",
     "text": [
      "<class 'numpy.ndarray'>\n"
     ]
    }
   ],
   "source": [
    "print(type(data))"
   ]
  },
  {
   "cell_type": "code",
   "execution_count": 6,
   "metadata": {},
   "outputs": [
    {
     "name": "stdout",
     "output_type": "stream",
     "text": [
      "File size (MB) of compressed TIF: 197\n"
     ]
    }
   ],
   "source": [
    "tif_size = get_s3_obj_size(bucket, key)\n",
    "print('File size (MB) of compressed TIF:', round(tif_size / 1024 / 1024))"
   ]
  },
  {
   "cell_type": "code",
   "execution_count": 7,
   "metadata": {},
   "outputs": [
    {
     "name": "stdout",
     "output_type": "stream",
     "text": [
      "uint16\n"
     ]
    }
   ],
   "source": [
    "print(data.dtype)\n",
    "np.save('test.npy', data)"
   ]
  },
  {
   "cell_type": "code",
   "execution_count": 8,
   "metadata": {},
   "outputs": [
    {
     "name": "stdout",
     "output_type": "stream",
     "text": [
      "File size (MB) of numpy file: 230\n"
     ]
    }
   ],
   "source": [
    "print('File size (MB) of numpy file:', round(os.path.getsize('test.npy') / 1024 / 1024))"
   ]
  },
  {
   "cell_type": "code",
   "execution_count": 9,
   "metadata": {},
   "outputs": [],
   "source": [
    "#  as long as you don't change the dimensions and/or your data type, you can just write it back\n",
    "#  and it will have the same georeferencing and the same compression alg etc.\n",
    "\n",
    "#  do something with the numpy array\n",
    "data = data * 2\n",
    "\n",
    "with rasterio.open('new_file.tif', 'w', **profile) as f:\n",
    "    f.write(data, 1)\n",
    "    \n",
    "#  if you change the data type, you need to adjust the profile:\n",
    "\n",
    "profile['dtype'] = np.uint8\n",
    "\n",
    "data = data.astype(np.uint8)\n",
    "\n",
    "with rasterio.open('new_file2.tif', 'w', **profile) as f:\n",
    "    f.write(data, 1)"
   ]
  },
  {
   "cell_type": "code",
   "execution_count": null,
   "metadata": {},
   "outputs": [],
   "source": []
  }
 ],
 "metadata": {
  "kernelspec": {
   "display_name": "Python 3",
   "language": "python",
   "name": "python3"
  },
  "language_info": {
   "codemirror_mode": {
    "name": "ipython",
    "version": 3
   },
   "file_extension": ".py",
   "mimetype": "text/x-python",
   "name": "python",
   "nbconvert_exporter": "python",
   "pygments_lexer": "ipython3",
   "version": "3.8.3"
  }
 },
 "nbformat": 4,
 "nbformat_minor": 4
}
